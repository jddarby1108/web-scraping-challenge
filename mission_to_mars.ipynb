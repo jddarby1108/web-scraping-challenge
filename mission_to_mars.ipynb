{
 "cells": [
  {
   "cell_type": "code",
   "execution_count": 1,
   "metadata": {},
   "outputs": [],
   "source": [
    "# Import dependencies\n",
    "from splinter import Browser\n",
    "from splinter.exceptions import ElementDoesNotExist\n",
    "from bs4 import BeautifulSoup"
   ]
  },
  {
   "cell_type": "code",
   "execution_count": 2,
   "metadata": {},
   "outputs": [],
   "source": [
    "# Chromedriver\n",
    "executable_path = {'executable_path': 'chromedriver.exe'}\n",
    "browser = Browser('chrome', **executable_path, headless=False)"
   ]
  },
  {
   "cell_type": "code",
   "execution_count": 3,
   "metadata": {},
   "outputs": [],
   "source": [
    "# website to scrape\n",
    "url = 'https://mars.nasa.gov/news/'\n",
    "browser.visit(url)"
   ]
  },
  {
   "cell_type": "code",
   "execution_count": 4,
   "metadata": {},
   "outputs": [
    {
     "name": "stdout",
     "output_type": "stream",
     "text": [
      "NASA's Perseverance Rover Is Midway to Mars \n",
      "Sometimes half measures can be a good thing – especially on a journey this long. The agency's latest rover only has about 146 million miles left to reach its destination.\n"
     ]
    }
   ],
   "source": [
    "# Splinter can capture a page's underlying html and use pass it to BeautifulSoup to allow us to scrape the content\n",
    "html = browser.html\n",
    "soup = BeautifulSoup(html, 'html.parser')\n",
    "# print(soup.prettify())\n",
    "# Using BS, we can execute standard functions to capture the page's content\n",
    "\n",
    "news_title=soup.find('li', attrs={'class': 'slide'}).find('h3').text\n",
    "print(news_title)\n",
    "\n",
    "news_p = soup.find('div', class_='article_teaser_body').text\n",
    "print(news_p)      "
   ]
  },
  {
   "cell_type": "code",
   "execution_count": 18,
   "metadata": {},
   "outputs": [
    {
     "name": "stdout",
     "output_type": "stream",
     "text": [
      "/spaceimages/images/largesize/PIA24182_hires.jpg\n"
     ]
    }
   ],
   "source": [
    "# website to scrape\n",
    "img_url = 'https://www.jpl.nasa.gov/spaceimages/?search=&category=Mars'\n",
    "browser.visit(img_url)\n",
    "\n",
    "# Splinter can capture a page's underlying html and use pass it to BeautifulSoup to allow us to scrape the content\n",
    "html = browser.html\n",
    "soup = BeautifulSoup(html, 'html.parser')\n",
    "\n",
    "featured_image_url = soup.find('li', class_='slide').find('a', class_='fancybox')['data-fancybox-href'] \n",
    "print(featured_image_url)\n",
    "# print(soup.prettify())"
   ]
  },
  {
   "cell_type": "code",
   "execution_count": 49,
   "metadata": {},
   "outputs": [
    {
     "name": "stdout",
     "output_type": "stream",
     "text": [
      "Cerberus Hemisphere Enhanced\n",
      "/search/map/Mars/Viking/cerberus_enhanced\n",
      "Schiaparelli Hemisphere Enhanced\n",
      "/search/map/Mars/Viking/schiaparelli_enhanced\n",
      "Syrtis Major Hemisphere Enhanced\n",
      "/search/map/Mars/Viking/syrtis_major_enhanced\n",
      "Valles Marineris Hemisphere Enhanced\n",
      "/search/map/Mars/Viking/valles_marineris_enhanced\n"
     ]
    }
   ],
   "source": [
    "# Scrape Mars hemisphere image url and title\n",
    "hemisphere_facts_url = 'https://astrogeology.usgs.gov/search/results?q=hemisphere+enhanced&k1=target&v1=Mars'\n",
    "browser.visit(hemisphere_facts_url)\n",
    "\n",
    "# Splinter can capture a page's underlying html and use pass it to BeautifulSoup to allow us to scrape the content\n",
    "html = browser.html\n",
    "soup = BeautifulSoup(html, 'html.parser')\n",
    "\n",
    "results = soup.find_all('div', class_='description')\n",
    "\n",
    "# loop over results to get hemisphere data\n",
    "for result in results:\n",
    "    \n",
    "    # scrape the title\n",
    "    titles = result.find('h3').text\n",
    "    print(titles)\n",
    "\n",
    "    link = result.find('a')\n",
    "    href = link['href']\n",
    "    print(href)\n",
    "    \n"
   ]
  },
  {
   "cell_type": "code",
   "execution_count": 43,
   "metadata": {},
   "outputs": [],
   "source": [
    "# scrape the urls \n",
    "def scrapeimages(hemisphere_facts_url):\n",
    "    mars_hemispheres = []\n",
    "    moremars_hemispheres = True\n",
    "   \n",
    "    while moremars_hemispheres:\n",
    "        # Iterate through each title\n",
    "        for title in titles:\n",
    "        \n",
    "            # click image thumbnail to move to the next page\n",
    "            try:\n",
    "                soup.click_link_by_partial_text('src')\n",
    "                mars_hemispheres = mars_hemispheres.append.soup.find('div', class_=\"page-background\")['style']\n",
    "                print(mars_hemispheres)\n",
    "            # ElementDoesNotExist is a spliter-specific exception (imported in the first cell)\n",
    "            # It means that splinter could not find any elements with our given search criteria \n",
    "            # In this case, that means there are no more pages, so we can tell our while loop to stop running\n",
    "            except ElementDoesNotExist:\n",
    "                moremars_hemispheres = False\n",
    "\n",
    "    # once the while loop completes, return the books we've captured\n",
    "    return mars_hemispheres\n"
   ]
  },
  {
   "cell_type": "code",
   "execution_count": 28,
   "metadata": {},
   "outputs": [],
   "source": [
    "#     # Dictionary to be inserted into MongoDB\n",
    "    \n",
    "#     hemisphere_image_urls = [\n",
    "#         {\"Cerberus Hemisphere\": title, \"hemi_urls\": hemi_urls},\n",
    "#         {\"Schiaparelli Hemisphere\": title, \"hemi_urls\": hemi_urls},\n",
    "#         {\"Syrtis Major Hemisphere\": title, \"hemi_urls\": hemi_urls},\n",
    "#         {\"Valles Marineris Hemisphere\": title, \"hemi_urls\": hemi_urls},\n",
    "#     ]\n"
   ]
  },
  {
   "cell_type": "code",
   "execution_count": null,
   "metadata": {},
   "outputs": [],
   "source": []
  }
 ],
 "metadata": {
  "kernelspec": {
   "display_name": "Python 3",
   "language": "python",
   "name": "python3"
  },
  "language_info": {
   "codemirror_mode": {
    "name": "ipython",
    "version": 3
   },
   "file_extension": ".py",
   "mimetype": "text/x-python",
   "name": "python",
   "nbconvert_exporter": "python",
   "pygments_lexer": "ipython3",
   "version": "3.8.3"
  }
 },
 "nbformat": 4,
 "nbformat_minor": 4
}
